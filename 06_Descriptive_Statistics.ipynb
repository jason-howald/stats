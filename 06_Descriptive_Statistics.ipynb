{
  "nbformat": 4,
  "nbformat_minor": 0,
  "metadata": {
    "colab": {
      "name": "06 Descriptive Statistics.ipynb",
      "provenance": [],
      "collapsed_sections": [],
      "toc_visible": true,
      "include_colab_link": true
    },
    "kernelspec": {
      "name": "python3",
      "display_name": "Python 3"
    }
  },
  "cells": [
    {
      "cell_type": "markdown",
      "metadata": {
        "id": "view-in-github",
        "colab_type": "text"
      },
      "source": [
        "<a href=\"https://colab.research.google.com/github/jason-howald/stats/blob/master/06_Descriptive_Statistics.ipynb\" target=\"_parent\"><img src=\"https://colab.research.google.com/assets/colab-badge.svg\" alt=\"Open In Colab\"/></a>"
      ]
    },
    {
      "cell_type": "markdown",
      "metadata": {
        "id": "m0eVCz_DcY-u",
        "colab_type": "text"
      },
      "source": [
        "# Descriptive Statistics"
      ]
    },
    {
      "cell_type": "markdown",
      "metadata": {
        "id": "1FzkYnI_cZA1",
        "colab_type": "text"
      },
      "source": [
        "## What is a statistic?"
      ]
    },
    {
      "cell_type": "markdown",
      "metadata": {
        "id": "cGKaN258cZP9",
        "colab_type": "text"
      },
      "source": [
        "**Statistic:** A number, calculated from sample data, used to summarize or describe a dataset.\n",
        "\n",
        "You already know lots of statistics:  \n",
        "- Mean\n",
        "- Median\n",
        "- Count\n",
        "- Standard deviation\n",
        "- Min and max\n",
        "- Proportions within categories\n"
      ]
    },
    {
      "cell_type": "markdown",
      "metadata": {
        "id": "8ZlGaTkk-9SS",
        "colab_type": "text"
      },
      "source": [
        "## The Mean (aka Average) $\\bar{x}$ (or $\\mu$ for *population* mean)"
      ]
    },
    {
      "cell_type": "markdown",
      "metadata": {
        "id": "ypZKXNCpcZOi",
        "colab_type": "text"
      },
      "source": [
        "\n",
        "\n",
        "1. Purpose: Center, typical, middle, average.\n",
        "2. The Formula: $$\\bar{x} = \\frac{\\sum_ix_i}{n}$$\n",
        "  - Here $x_i$ refers (separately, individually) to the data values.\n",
        "  - Here $\\sum_i$ means \"add them up.\"\n",
        "  - Here $n$ means the number of data values, or sample size.\n",
        "3. In Python: ```df.mean()``` or specifically ```df.describe()```\n",
        "4. The Recipe: Add up the data values. Divide by the number of data values.\n",
        "\n",
        "Activity: \n",
        "  1. Find the mean of these numbers: \n",
        "  $$1,8,8,3,2,3,6,10,9,10$$\n",
        "  2. Write your answer using proper notation $\\bar{x}$.\n",
        "\n"
      ]
    },
    {
      "cell_type": "code",
      "metadata": {
        "id": "ffIqfci0-_Y8",
        "colab_type": "code",
        "colab": {}
      },
      "source": [
        "# A Quick Example\n",
        "import pandas as pd\n",
        "df = pd.read_csv(\"https://www.openintro.org/stat/data/exercise_prostate_cancer.csv\")"
      ],
      "execution_count": 0,
      "outputs": []
    },
    {
      "cell_type": "code",
      "metadata": {
        "id": "uNfCeAvjlgQn",
        "colab_type": "code",
        "outputId": "dc21c038-0174-4afb-e943-62a7012ee1d9",
        "colab": {
          "base_uri": "https://localhost:8080/",
          "height": 297
        }
      },
      "source": [
        "df.describe()"
      ],
      "execution_count": 0,
      "outputs": [
        {
          "output_type": "execute_result",
          "data": {
            "text/html": [
              "<div>\n",
              "<style scoped>\n",
              "    .dataframe tbody tr th:only-of-type {\n",
              "        vertical-align: middle;\n",
              "    }\n",
              "\n",
              "    .dataframe tbody tr th {\n",
              "        vertical-align: top;\n",
              "    }\n",
              "\n",
              "    .dataframe thead th {\n",
              "        text-align: right;\n",
              "    }\n",
              "</style>\n",
              "<table border=\"1\" class=\"dataframe\">\n",
              "  <thead>\n",
              "    <tr style=\"text-align: right;\">\n",
              "      <th></th>\n",
              "      <th>patient</th>\n",
              "      <th>growth</th>\n",
              "    </tr>\n",
              "  </thead>\n",
              "  <tbody>\n",
              "    <tr>\n",
              "      <th>count</th>\n",
              "      <td>40.000000</td>\n",
              "      <td>40.000000</td>\n",
              "    </tr>\n",
              "    <tr>\n",
              "      <th>mean</th>\n",
              "      <td>55.000000</td>\n",
              "      <td>2.541750</td>\n",
              "    </tr>\n",
              "    <tr>\n",
              "      <th>std</th>\n",
              "      <td>34.906468</td>\n",
              "      <td>0.614671</td>\n",
              "    </tr>\n",
              "    <tr>\n",
              "      <th>min</th>\n",
              "      <td>1.000000</td>\n",
              "      <td>1.230000</td>\n",
              "    </tr>\n",
              "    <tr>\n",
              "      <th>25%</th>\n",
              "      <td>25.000000</td>\n",
              "      <td>2.032500</td>\n",
              "    </tr>\n",
              "    <tr>\n",
              "      <th>50%</th>\n",
              "      <td>55.000000</td>\n",
              "      <td>2.550000</td>\n",
              "    </tr>\n",
              "    <tr>\n",
              "      <th>75%</th>\n",
              "      <td>85.000000</td>\n",
              "      <td>3.050000</td>\n",
              "    </tr>\n",
              "    <tr>\n",
              "      <th>max</th>\n",
              "      <td>109.000000</td>\n",
              "      <td>3.630000</td>\n",
              "    </tr>\n",
              "  </tbody>\n",
              "</table>\n",
              "</div>"
            ],
            "text/plain": [
              "          patient     growth\n",
              "count   40.000000  40.000000\n",
              "mean    55.000000   2.541750\n",
              "std     34.906468   0.614671\n",
              "min      1.000000   1.230000\n",
              "25%     25.000000   2.032500\n",
              "50%     55.000000   2.550000\n",
              "75%     85.000000   3.050000\n",
              "max    109.000000   3.630000"
            ]
          },
          "metadata": {
            "tags": []
          },
          "execution_count": 3
        }
      ]
    },
    {
      "cell_type": "code",
      "metadata": {
        "id": "bYBUiynYA21G",
        "colab_type": "code",
        "outputId": "4b0418db-75f0-4150-da91-18b0788b8a99",
        "colab": {
          "base_uri": "https://localhost:8080/",
          "height": 68
        }
      },
      "source": [
        "df.mean()"
      ],
      "execution_count": 0,
      "outputs": [
        {
          "output_type": "execute_result",
          "data": {
            "text/plain": [
              "patient    55.00000\n",
              "growth      2.54175\n",
              "dtype: float64"
            ]
          },
          "metadata": {
            "tags": []
          },
          "execution_count": 4
        }
      ]
    },
    {
      "cell_type": "code",
      "metadata": {
        "id": "eDxTn4cymPU6",
        "colab_type": "code",
        "outputId": "f657831e-1bfe-439c-abe3-3bca592248e0",
        "colab": {
          "base_uri": "https://localhost:8080/",
          "height": 34
        }
      },
      "source": [
        "x = pd.Series([1,8,8,3,2,3,6,10,9,10])\n",
        "x.mean()"
      ],
      "execution_count": 0,
      "outputs": [
        {
          "output_type": "execute_result",
          "data": {
            "text/plain": [
              "6.0"
            ]
          },
          "metadata": {
            "tags": []
          },
          "execution_count": 5
        }
      ]
    },
    {
      "cell_type": "markdown",
      "metadata": {
        "id": "gEGuaGc5szND",
        "colab_type": "text"
      },
      "source": [
        "## The Sample size (aka count): $n$"
      ]
    },
    {
      "cell_type": "markdown",
      "metadata": {
        "id": "KX-7_jdws3Sc",
        "colab_type": "text"
      },
      "source": [
        "1. Purpose: Measure how much data\n",
        "2. No formula\n",
        "3. The Recipe: Just count!\n",
        "4. In Python: ```df.count()``` or ```df.describe()```\n",
        "\n",
        "Activity:\n",
        "1. Find the sample size of the numbers above, and use proper notation to express your answer."
      ]
    },
    {
      "cell_type": "code",
      "metadata": {
        "id": "h7UbWES5shhq",
        "colab_type": "code",
        "outputId": "bb4a3e3c-b4d3-4554-b426-d465a1c9aecb",
        "colab": {
          "base_uri": "https://localhost:8080/",
          "height": 102
        }
      },
      "source": [
        "#Quick Example \n",
        "df.count()"
      ],
      "execution_count": 0,
      "outputs": [
        {
          "output_type": "execute_result",
          "data": {
            "text/plain": [
              "patient    40\n",
              "cell       40\n",
              "serum      40\n",
              "growth     40\n",
              "dtype: int64"
            ]
          },
          "metadata": {
            "tags": []
          },
          "execution_count": 6
        }
      ]
    },
    {
      "cell_type": "markdown",
      "metadata": {
        "id": "xCFRqujmvUvL",
        "colab_type": "text"
      },
      "source": [
        "## Minimum and Maximum:"
      ]
    },
    {
      "cell_type": "markdown",
      "metadata": {
        "id": "ERewcmNavcp1",
        "colab_type": "text"
      },
      "source": [
        "1. Purpose: Measure total range of data.\n",
        "2. No formula.\n",
        "3. The Recipe: Scan for highest, scan for lowest\n",
        "4. In Python: ```df.min()``` or ```df.max()``` or ```df.describe()```\n",
        "\n",
        "Activity:\n",
        "  1. Find the min and max of the data above."
      ]
    },
    {
      "cell_type": "code",
      "metadata": {
        "id": "rR9e_p_KtPzu",
        "colab_type": "code",
        "outputId": "044997a6-cd49-4e27-9ca5-00830ead300b",
        "colab": {
          "base_uri": "https://localhost:8080/",
          "height": 102
        }
      },
      "source": [
        "df.max()"
      ],
      "execution_count": 0,
      "outputs": [
        {
          "output_type": "execute_result",
          "data": {
            "text/plain": [
              "patient       109\n",
              "cell       NIH3T3\n",
              "serum      before\n",
              "growth       3.63\n",
              "dtype: object"
            ]
          },
          "metadata": {
            "tags": []
          },
          "execution_count": 7
        }
      ]
    },
    {
      "cell_type": "markdown",
      "metadata": {
        "id": "nHCUoIIDv1Qx",
        "colab_type": "text"
      },
      "source": [
        "## Variance: $s^2$ (or $\\sigma^2$ for *population* variance)\n"
      ]
    },
    {
      "cell_type": "markdown",
      "metadata": {
        "id": "fKPV71EMfTYj",
        "colab_type": "text"
      },
      "source": [
        "1. Purpose: Measure \"spread\" of data\n",
        "2. Formula: $$s^2 = \\frac{1}{n-1} \\sum_i (X_i - \\bar{X})^2$$\n",
        "3. The Recipe: \n",
        "  - Subtract the mean from each data point: $(X_i-\\bar{X})$\n",
        "  - Square each distance-from-the-mean.\n",
        "  - Add up the squares.\n",
        "  - Divide by *count minus one*\n",
        "4. In Python: ```df.var()```\n",
        "\n",
        "Activity: (We're only ever doing this once!)\n",
        "  1. Calculate the variance of the data series above, by following the recipe. Use the proper notation $s^2$ for the answer."
      ]
    },
    {
      "cell_type": "code",
      "metadata": {
        "id": "1_X9elLb2-Uu",
        "colab_type": "code",
        "outputId": "728d7bf4-fec7-43d3-f78b-9c2dd97f6d9b",
        "colab": {
          "base_uri": "https://localhost:8080/",
          "height": 204
        }
      },
      "source": [
        "x"
      ],
      "execution_count": 0,
      "outputs": [
        {
          "output_type": "execute_result",
          "data": {
            "text/plain": [
              "0     1\n",
              "1     8\n",
              "2     8\n",
              "3     3\n",
              "4     2\n",
              "5     3\n",
              "6     6\n",
              "7    10\n",
              "8     9\n",
              "9    10\n",
              "dtype: int64"
            ]
          },
          "metadata": {
            "tags": []
          },
          "execution_count": 8
        }
      ]
    },
    {
      "cell_type": "code",
      "metadata": {
        "id": "hAZhfZbvvumv",
        "colab_type": "code",
        "outputId": "2544a870-e43e-4049-a8c5-5c4ad5efab94",
        "colab": {
          "base_uri": "https://localhost:8080/",
          "height": 34
        }
      },
      "source": [
        "x.var()"
      ],
      "execution_count": 0,
      "outputs": [
        {
          "output_type": "execute_result",
          "data": {
            "text/plain": [
              "12.0"
            ]
          },
          "metadata": {
            "tags": []
          },
          "execution_count": 9
        }
      ]
    },
    {
      "cell_type": "markdown",
      "metadata": {
        "id": "jb9IpaqChv5q",
        "colab_type": "text"
      },
      "source": [
        "## Standard Deviation: $s$ (or $\\sigma$ for *population* standard deviation)"
      ]
    },
    {
      "cell_type": "markdown",
      "metadata": {
        "id": "feq0fi0phten",
        "colab_type": "text"
      },
      "source": [
        "Yes, it's just the square root of variance!\n",
        "\n",
        "1. Purpose: Measure \"spread\" of data\n",
        "2. Formula: $$s = \\sqrt{\\frac{1}{n-1} \\sum_i (X_i - \\bar{X})^2}$$\n",
        "3. The Recipe:\n",
        "  - Find how far from the mean each data point is $(X_i-\\bar{X})$\n",
        "  - Square each distance-from-the-mean.\n",
        "  - Add up the squares.\n",
        "  - Divide by *count minus one*\n",
        "  - Take the square root.\n",
        "4. In Python: ```df.std()``` or ```df.describe()```\n",
        "\n",
        "Activity: \n",
        "  1. Calculate the standard deviation of the dataset above. Use the notation $s =$ for your answer. This should be easy, based on the previous part."
      ]
    },
    {
      "cell_type": "code",
      "metadata": {
        "id": "aFXXDs0gkdb9",
        "colab_type": "code",
        "outputId": "8b3c7a00-cf18-4761-f169-2c4c1f13515d",
        "colab": {
          "base_uri": "https://localhost:8080/",
          "height": 68
        }
      },
      "source": [
        "df.std()"
      ],
      "execution_count": 0,
      "outputs": [
        {
          "output_type": "execute_result",
          "data": {
            "text/plain": [
              "patient    34.906468\n",
              "growth      0.614671\n",
              "dtype: float64"
            ]
          },
          "metadata": {
            "tags": []
          },
          "execution_count": 10
        }
      ]
    },
    {
      "cell_type": "markdown",
      "metadata": {
        "id": "ztzuaTQtsvo7",
        "colab_type": "text"
      },
      "source": [
        "## The Median (aka 50%, aka Q2)"
      ]
    },
    {
      "cell_type": "markdown",
      "metadata": {
        "id": "9E5I6emore-X",
        "colab_type": "text"
      },
      "source": [
        "1. Purpose: Center, typical, middle, average. (Similar to **mean**)\n",
        "2. No formula\n",
        "3. The Recipe: Sort the data values in order.\n",
        "  - If odd, pick the middle value.\n",
        "  - If even, pick exactly between two middle values.\n",
        "4. In Python: ```df.median()``` or ```df.describe()```\n",
        "\n",
        "Activity:\n",
        "  1. Calculate the median of the dataset above. Use proper notation."
      ]
    },
    {
      "cell_type": "code",
      "metadata": {
        "id": "Hhwsodh0sg4L",
        "colab_type": "code",
        "outputId": "0dc49d8c-4e37-4ffd-923e-2ecb60511d49",
        "colab": {
          "base_uri": "https://localhost:8080/",
          "height": 68
        }
      },
      "source": [
        "#Quick Example\n",
        "df.median()"
      ],
      "execution_count": 0,
      "outputs": [
        {
          "output_type": "execute_result",
          "data": {
            "text/plain": [
              "patient    55.00\n",
              "growth      2.55\n",
              "dtype: float64"
            ]
          },
          "metadata": {
            "tags": []
          },
          "execution_count": 11
        }
      ]
    },
    {
      "cell_type": "markdown",
      "metadata": {
        "id": "Pj1suYQwIF_S",
        "colab_type": "text"
      },
      "source": [
        "## Quartiles 25% and 75% (aka Q1 and Q3)"
      ]
    },
    {
      "cell_type": "markdown",
      "metadata": {
        "id": "f5gdzC5nxtXo",
        "colab_type": "text"
      },
      "source": [
        "\n",
        "\n",
        "1. Purpose: Divide the data into four equal parts\n",
        "2. No formula\n",
        "3. The Recipe: \n",
        "  - Find the median (divide the data into two halves).\n",
        "  - Q1 is the median of the bottom half.\n",
        "  - Q3 is the median of the top half.\n",
        "4. In Python: \n",
        "  - For Q1: ```df.quantile(0.25)```\n",
        "  - For Q3: ```df.quantile(0.75)```\n",
        "  - or just ```df.describe()```\n",
        "\n",
        "Activity:\n",
        "  1. Calculate Q1 and Q3 of the dataset above. Use proper notation."
      ]
    },
    {
      "cell_type": "code",
      "metadata": {
        "id": "zUTOo1QW-F1r",
        "colab_type": "code",
        "outputId": "c56dd8bd-d171-4e29-f6e6-b89f60ed3518",
        "colab": {
          "base_uri": "https://localhost:8080/",
          "height": 297
        }
      },
      "source": [
        "df.describe()"
      ],
      "execution_count": 0,
      "outputs": [
        {
          "output_type": "execute_result",
          "data": {
            "text/html": [
              "<div>\n",
              "<style scoped>\n",
              "    .dataframe tbody tr th:only-of-type {\n",
              "        vertical-align: middle;\n",
              "    }\n",
              "\n",
              "    .dataframe tbody tr th {\n",
              "        vertical-align: top;\n",
              "    }\n",
              "\n",
              "    .dataframe thead th {\n",
              "        text-align: right;\n",
              "    }\n",
              "</style>\n",
              "<table border=\"1\" class=\"dataframe\">\n",
              "  <thead>\n",
              "    <tr style=\"text-align: right;\">\n",
              "      <th></th>\n",
              "      <th>patient</th>\n",
              "      <th>growth</th>\n",
              "    </tr>\n",
              "  </thead>\n",
              "  <tbody>\n",
              "    <tr>\n",
              "      <th>count</th>\n",
              "      <td>40.000000</td>\n",
              "      <td>40.000000</td>\n",
              "    </tr>\n",
              "    <tr>\n",
              "      <th>mean</th>\n",
              "      <td>55.000000</td>\n",
              "      <td>2.541750</td>\n",
              "    </tr>\n",
              "    <tr>\n",
              "      <th>std</th>\n",
              "      <td>34.906468</td>\n",
              "      <td>0.614671</td>\n",
              "    </tr>\n",
              "    <tr>\n",
              "      <th>min</th>\n",
              "      <td>1.000000</td>\n",
              "      <td>1.230000</td>\n",
              "    </tr>\n",
              "    <tr>\n",
              "      <th>25%</th>\n",
              "      <td>25.000000</td>\n",
              "      <td>2.032500</td>\n",
              "    </tr>\n",
              "    <tr>\n",
              "      <th>50%</th>\n",
              "      <td>55.000000</td>\n",
              "      <td>2.550000</td>\n",
              "    </tr>\n",
              "    <tr>\n",
              "      <th>75%</th>\n",
              "      <td>85.000000</td>\n",
              "      <td>3.050000</td>\n",
              "    </tr>\n",
              "    <tr>\n",
              "      <th>max</th>\n",
              "      <td>109.000000</td>\n",
              "      <td>3.630000</td>\n",
              "    </tr>\n",
              "  </tbody>\n",
              "</table>\n",
              "</div>"
            ],
            "text/plain": [
              "          patient     growth\n",
              "count   40.000000  40.000000\n",
              "mean    55.000000   2.541750\n",
              "std     34.906468   0.614671\n",
              "min      1.000000   1.230000\n",
              "25%     25.000000   2.032500\n",
              "50%     55.000000   2.550000\n",
              "75%     85.000000   3.050000\n",
              "max    109.000000   3.630000"
            ]
          },
          "metadata": {
            "tags": []
          },
          "execution_count": 12
        }
      ]
    },
    {
      "cell_type": "code",
      "metadata": {
        "id": "UyN3dDmBy2np",
        "colab_type": "code",
        "outputId": "e44faad7-57c6-4041-cd67-0f91016cb88c",
        "colab": {
          "base_uri": "https://localhost:8080/",
          "height": 68
        }
      },
      "source": [
        "df.quantile(0.75)"
      ],
      "execution_count": 0,
      "outputs": [
        {
          "output_type": "execute_result",
          "data": {
            "text/plain": [
              "patient    85.00\n",
              "growth      3.05\n",
              "Name: 0.75, dtype: float64"
            ]
          },
          "metadata": {
            "tags": []
          },
          "execution_count": 13
        }
      ]
    },
    {
      "cell_type": "code",
      "metadata": {
        "id": "XZrQF6wCy3_F",
        "colab_type": "code",
        "outputId": "879838e7-0578-44f3-83b1-7f9a1dacb7e7",
        "colab": {
          "base_uri": "https://localhost:8080/",
          "height": 297
        }
      },
      "source": [
        "df.describe()"
      ],
      "execution_count": 0,
      "outputs": [
        {
          "output_type": "execute_result",
          "data": {
            "text/html": [
              "<div>\n",
              "<style scoped>\n",
              "    .dataframe tbody tr th:only-of-type {\n",
              "        vertical-align: middle;\n",
              "    }\n",
              "\n",
              "    .dataframe tbody tr th {\n",
              "        vertical-align: top;\n",
              "    }\n",
              "\n",
              "    .dataframe thead th {\n",
              "        text-align: right;\n",
              "    }\n",
              "</style>\n",
              "<table border=\"1\" class=\"dataframe\">\n",
              "  <thead>\n",
              "    <tr style=\"text-align: right;\">\n",
              "      <th></th>\n",
              "      <th>patient</th>\n",
              "      <th>growth</th>\n",
              "    </tr>\n",
              "  </thead>\n",
              "  <tbody>\n",
              "    <tr>\n",
              "      <th>count</th>\n",
              "      <td>40.000000</td>\n",
              "      <td>40.000000</td>\n",
              "    </tr>\n",
              "    <tr>\n",
              "      <th>mean</th>\n",
              "      <td>55.000000</td>\n",
              "      <td>2.541750</td>\n",
              "    </tr>\n",
              "    <tr>\n",
              "      <th>std</th>\n",
              "      <td>34.906468</td>\n",
              "      <td>0.614671</td>\n",
              "    </tr>\n",
              "    <tr>\n",
              "      <th>min</th>\n",
              "      <td>1.000000</td>\n",
              "      <td>1.230000</td>\n",
              "    </tr>\n",
              "    <tr>\n",
              "      <th>25%</th>\n",
              "      <td>25.000000</td>\n",
              "      <td>2.032500</td>\n",
              "    </tr>\n",
              "    <tr>\n",
              "      <th>50%</th>\n",
              "      <td>55.000000</td>\n",
              "      <td>2.550000</td>\n",
              "    </tr>\n",
              "    <tr>\n",
              "      <th>75%</th>\n",
              "      <td>85.000000</td>\n",
              "      <td>3.050000</td>\n",
              "    </tr>\n",
              "    <tr>\n",
              "      <th>max</th>\n",
              "      <td>109.000000</td>\n",
              "      <td>3.630000</td>\n",
              "    </tr>\n",
              "  </tbody>\n",
              "</table>\n",
              "</div>"
            ],
            "text/plain": [
              "          patient     growth\n",
              "count   40.000000  40.000000\n",
              "mean    55.000000   2.541750\n",
              "std     34.906468   0.614671\n",
              "min      1.000000   1.230000\n",
              "25%     25.000000   2.032500\n",
              "50%     55.000000   2.550000\n",
              "75%     85.000000   3.050000\n",
              "max    109.000000   3.630000"
            ]
          },
          "metadata": {
            "tags": []
          },
          "execution_count": 14
        }
      ]
    },
    {
      "cell_type": "markdown",
      "metadata": {
        "id": "mifbMpT8rhsh",
        "colab_type": "text"
      },
      "source": [
        "## Interquartile Range (IQR)\n"
      ]
    },
    {
      "cell_type": "markdown",
      "metadata": {
        "colab_type": "text",
        "id": "qsvMvCqUrrjx"
      },
      "source": [
        "1. Purpose: Data **spread** (similar to **standard deviation**)\n",
        "2. Formula: $$Q3-Q1$$\n",
        "3. The Recipe: \n",
        "  - Find Q1 and Q3.\n",
        "  - Subtract!\n",
        "4. In Python: \n",
        "  - ```df.quantile(0.75)-df.quantile(0.25)```\n",
        "\n",
        "Activity:\n",
        "  1. What's the Interquartile Range of the dataset above? Use proper notation."
      ]
    },
    {
      "cell_type": "markdown",
      "metadata": {
        "id": "lWi5ZY89htRs",
        "colab_type": "text"
      },
      "source": [
        "## Proportion: $\\hat{p}$ (For categorical variables!)"
      ]
    },
    {
      "cell_type": "markdown",
      "metadata": {
        "id": "MyrSXD0fi_LP",
        "colab_type": "text"
      },
      "source": [
        "1. Purpose: Count how many, relative to whole.\n",
        "2. Formula: $$\\hat{p} = \\frac{\\text{Yeses}}{n}$$\n",
        "... and multiply by 100 if you need a percentage.\n",
        "3. The Recipe:\n",
        "  - Count number of \"successes.\"\n",
        "  - Divide by count.\n",
        "4. In Python: ```df.value_counts(normalize=True)```"
      ]
    },
    {
      "cell_type": "code",
      "metadata": {
        "id": "RpUIEKsWi-TA",
        "colab_type": "code",
        "outputId": "b4d28e47-7b1d-4b28-df27-19c3ebb7dccd",
        "colab": {
          "base_uri": "https://localhost:8080/",
          "height": 68
        }
      },
      "source": [
        "df['serum'].value_counts(normalize=True)"
      ],
      "execution_count": 0,
      "outputs": [
        {
          "output_type": "execute_result",
          "data": {
            "text/plain": [
              "after     0.5\n",
              "before    0.5\n",
              "Name: serum, dtype: float64"
            ]
          },
          "metadata": {
            "tags": []
          },
          "execution_count": 15
        }
      ]
    },
    {
      "cell_type": "markdown",
      "metadata": {
        "id": "eotI5VMhuWEl",
        "colab_type": "text"
      },
      "source": [
        "# Descriptive Statistics in plots"
      ]
    },
    {
      "cell_type": "code",
      "metadata": {
        "id": "0XTAnp8quoRG",
        "colab_type": "code",
        "colab": {}
      },
      "source": [
        "import pandas as pd\n",
        "import seaborn as sns\n",
        "pokemon = pd.read_csv(\"https://gist.githubusercontent.com/armgilles/194bcff35001e7eb53a2a8b441e8b2c6/raw/92200bc0a673d5ce2110aaad4544ed6c4010f687/pokemon.csv\")"
      ],
      "execution_count": 0,
      "outputs": []
    },
    {
      "cell_type": "code",
      "metadata": {
        "id": "gR1p7AZQuZP3",
        "colab_type": "code",
        "outputId": "4861b37a-7fa0-45d7-e252-9a324669e295",
        "colab": {
          "base_uri": "https://localhost:8080/",
          "height": 283
        }
      },
      "source": [
        "import matplotlib.pyplot as plt\n",
        "series = pokemon['Attack']\n",
        "#series = data['Exercise'].dropna()\n",
        "sns.distplot(series, rug=True)\n",
        "\n",
        "def labelStat(x,rel_height,label,color):\n",
        "  ylim = plt.ylim()\n",
        "  y0 = ylim[0]\n",
        "  y1 = ylim[0]*(1-rel_height)+ylim[1]*rel_height\n",
        "  plt.text(x,y1,label, va='center',ha='left', rotation=90, wrap=True)\n",
        "  plt.plot([x,x],[y0,y1],color=color)\n",
        "\n",
        "if True:  \n",
        "  labelStat(series.mean(),.65,\"Mean\",'g')\n",
        "  labelStat(series.quantile(.25),.4,\"Q1\",'b')\n",
        "  labelStat(series.quantile(.50),.4,\"Median\",'b')\n",
        "  labelStat(series.quantile(.75),.4,\"Q3\",'b')\n",
        "  labelStat(series.min(),.4,\"Min\",'b')\n",
        "  labelStat(series.max(),.4,\"Max\",'b')\n",
        "\n",
        "  # represent std()\n",
        "  y1=plt.ylim()[0]*(1-.65)+plt.ylim()[1]*.65\n",
        "  plt.plot([series.mean()-series.std(),series.mean()+series.std()],[y1,y1],color='g',linestyle='-',marker='o')\n",
        "\n",
        "#series.describe()\n"
      ],
      "execution_count": 0,
      "outputs": [
        {
          "output_type": "display_data",
          "data": {
            "image/png": "[encoded data removed]",
            "text/plain": [
              "<Figure size 432x288 with 1 Axes>"
            ]
          },
          "metadata": {
            "tags": []
          }
        }
      ]
    },
    {
      "cell_type": "code",
      "metadata": {
        "id": "NOj0GlbYuj2Q",
        "colab_type": "code",
        "outputId": "b0047c74-084c-4968-9044-78928613cbe0",
        "colab": {
          "base_uri": "https://localhost:8080/",
          "height": 283
        }
      },
      "source": [
        "series = pokemon['Attack']\n",
        "#sns.swarmplot(data=pokemon,x='Attack',color='#8080c0')\n",
        "sns.boxplot(data=pokemon,x='Attack')\n",
        "\n",
        "if True:\n",
        "  labelStat(series.mean(),.85,\"Mean\",'g')\n",
        "  labelStat(series.quantile(.25),.2,\"Q1\",'b')\n",
        "  labelStat(series.quantile(.50),.2,\"Median\",'b')\n",
        "  labelStat(series.quantile(.75),.2,\"Q3\",'b')\n",
        "  labelStat(series.min(),.2,\"Min\",'b')\n",
        "  labelStat(series.max(),.2,\"Max\",'b')\n",
        "\n",
        "  # represent std()\n",
        "  y1=plt.ylim()[0]*(1-.85)+plt.ylim()[1]*.85\n",
        "  plt.plot([series.mean()-series.std(),series.mean()+series.std()],[y1,y1],color='g',linestyle='-',marker='o')\n"
      ],
      "execution_count": 0,
      "outputs": [
        {
          "output_type": "display_data",
          "data": {
            "image/png": "[encoded data removed]",
            "text/plain": [
              "<Figure size 432x288 with 1 Axes>"
            ]
          },
          "metadata": {
            "tags": []
          }
        }
      ]
    },
    {
      "cell_type": "code",
      "metadata": {
        "id": "cjB_GePPuywx",
        "colab_type": "code",
        "colab": {}
      },
      "source": [
        ""
      ],
      "execution_count": 0,
      "outputs": []
    }
  ]
}