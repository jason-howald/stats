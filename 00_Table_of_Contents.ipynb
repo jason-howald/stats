{
  "nbformat": 4,
  "nbformat_minor": 0,
  "metadata": {
    "colab": {
      "name": "00 Table of Contents.ipynb",
      "provenance": [],
      "authorship_tag": "ABX9TyPaLu/VNPpdFIr2mqLwMiLH",
      "include_colab_link": true
    },
    "kernelspec": {
      "name": "python3",
      "display_name": "Python 3"
    }
  },
  "cells": [
    {
      "cell_type": "markdown",
      "metadata": {
        "id": "view-in-github",
        "colab_type": "text"
      },
      "source": [
        "<a href=\"https://colab.research.google.com/github/jason-howald/stats/blob/master/00_Table_of_Contents.ipynb\" target=\"_parent\"><img src=\"https://colab.research.google.com/assets/colab-badge.svg\" alt=\"Open In Colab\"/></a>"
      ]
    },
    {
      "cell_type": "markdown",
      "metadata": {
        "id": "bApmTo94uk4c",
        "colab_type": "text"
      },
      "source": [
        "# Lecture Notes Contents"
      ]
    },
    {
      "cell_type": "markdown",
      "metadata": {
        "id": "L__xVQQ1uk7P",
        "colab_type": "text"
      },
      "source": [
        "* [01 Hello 125 (Welcome Slides)](https://docs.google.com/presentation/d/1msSFUvObUNMB33w_ohrqlJfDcJJFTCYT95XOwQQjdNg/edit?usp=sharing)  \n",
        "  - Welcome to the course\n",
        "  - welcome to the technology.\n",
        "\n",
        "* [02 Data Basics](https://docs.google.com/presentation/d/1ZiBv1ItmNSBGrDvfJ3O1tPSdLaRUayW_2PBwudrk-iI/edit?usp=sharing)\n",
        "  - What is data? \n",
        "  - What is Colab? \n",
        "  - How do we use Colab to see data?\n",
        "\n",
        "* [03 Data Visualizations and Correlations](https://docs.google.com/presentation/d/1EWc_PmCvBqLBGqUKwPsGHXZdOvhcKau8D3rE6oVUrtk/edit?usp=sharing)\n",
        "\n",
        "* [04 Sampling from a Population](https://docs.google.com/presentation/d/1w2nEnijr-Bz57rzw2zRbl-6NwkwoMxiE4qIpx9f_jWA/edit?usp=sharing)\n",
        "\n",
        "* [05 Experiments and Observations](https://docs.google.com/presentation/d/10VTTpW1Y6eILbrR9Q08XRNlNB8sjVeAF8j2c0CEIGfg/edit?usp=sharing)\n",
        "\n",
        "* [06 Descriptive Statistics](https://colab.research.google.com/github/jason-howald/stats/blob/master/06_Descriptive_Statistics.ipynb)\n"
      ]
    },
    {
      "cell_type": "markdown",
      "metadata": {
        "id": "kXCxbPCEuk9P",
        "colab_type": "text"
      },
      "source": [
        ""
      ]
    },
    {
      "cell_type": "markdown",
      "metadata": {
        "id": "Zp-KMRbduk_x",
        "colab_type": "text"
      },
      "source": [
        ""
      ]
    }
  ]
}